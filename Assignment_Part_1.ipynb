{
  "nbformat": 4,
  "nbformat_minor": 0,
  "metadata": {
    "colab": {
      "provenance": [],
      "include_colab_link": true
    },
    "kernelspec": {
      "name": "python3",
      "display_name": "Python 3"
    },
    "language_info": {
      "name": "python"
    }
  },
  "cells": [
    {
      "cell_type": "markdown",
      "metadata": {
        "id": "view-in-github",
        "colab_type": "text"
      },
      "source": [
        "<a href=\"https://colab.research.google.com/github/ysnayal17/Alumni-Management-System/blob/main/Assignment_Part_1.ipynb\" target=\"_parent\"><img src=\"https://colab.research.google.com/assets/colab-badge.svg\" alt=\"Open In Colab\"/></a>"
      ]
    },
    {
      "cell_type": "code",
      "execution_count": null,
      "metadata": {
        "id": "oUujlbv1jPXC"
      },
      "outputs": [],
      "source": []
    },
    {
      "cell_type": "markdown",
      "source": [
        "## **Topic 1: Loops (5 Questions)**\n",
        "\n",
        "---\n",
        "\n",
        "### **Q1. Print Multiples of a Number**\n",
        "\n",
        "**Description:**\n",
        "\n",
        "Write a program to print all multiples of a given number up to 100.\n",
        "\n",
        "We can store a given number in a variable `num`.\n",
        "\n",
        "Note:\n",
        "\n",
        "- We can take input from the user using `input()`.\n",
        "- We can also directly take input as an Integer from the user using `int(input())`.\n",
        "\n",
        "**For example, Input:**\n",
        "\n",
        "```\n",
        "\n",
        "  \n",
        "num = 5\n",
        "\n",
        "```\n",
        "\n",
        "**Output:**\n",
        "\n",
        "```\n",
        "  \n",
        "5 10 15 20 25 30 35 40 45 50 55 60 65 70 75 80 85 90 95 100\n",
        "\n",
        "```\n",
        "\n",
        "---\n",
        "\n"
      ],
      "metadata": {
        "id": "8ozg9_l9jQXq"
      }
    },
    {
      "cell_type": "code",
      "source": [],
      "metadata": {
        "id": "oFZriqgUjXdA"
      },
      "execution_count": null,
      "outputs": []
    },
    {
      "cell_type": "markdown",
      "source": [
        "### **Q2. Sum of Digits**\n",
        "\n",
        "**Description:**\n",
        "\n",
        "Take an integer and find the **sum of its digits** using a loop.\n",
        "\n",
        "We can store a given number in a variable `num`.\n",
        "\n",
        "Note:\n",
        "\n",
        "- We can take input from the user using `input()`.\n",
        "- We can also directly take input as an Integer from the user using `int(input())`.\n",
        "\n",
        "**For example, Input:**\n",
        "\n",
        "```\n",
        "\n",
        "  \n",
        "num = 1234\n",
        "\n",
        "```\n",
        "\n",
        "**Output:**\n",
        "\n",
        "```\n",
        "  \n",
        "10\n",
        "\n",
        "```\n",
        "\n",
        "---\n",
        "\n"
      ],
      "metadata": {
        "id": "FQ9Br7X-jbKO"
      }
    },
    {
      "cell_type": "code",
      "source": [],
      "metadata": {
        "id": "mxXN5LDgjrt9"
      },
      "execution_count": null,
      "outputs": []
    },
    {
      "cell_type": "markdown",
      "source": [
        "### **Q3. Print Even Numbers in a Range**\n",
        "\n",
        "**Description:**\n",
        "\n",
        "Write a program to print all even numbers between 1 and N.\n",
        "\n",
        "Here `N` is a input variable\n",
        "\n",
        "Note:\n",
        "\n",
        "- We can take input from the user using `input()`.\n",
        "- We can also directly take input as an Integer from the user using `int(input())`.\n",
        "\n",
        "**For example, Input:**\n",
        "\n",
        "```\n",
        "\n",
        "  \n",
        "N = 10\n",
        "\n",
        "```\n",
        "\n",
        "**Output:**\n",
        "\n",
        "```\n",
        "  \n",
        "2 4 6 8 10\n",
        "\n",
        "```\n",
        "\n",
        "---\n",
        "\n"
      ],
      "metadata": {
        "id": "dVd2kshkjtm-"
      }
    },
    {
      "cell_type": "code",
      "source": [],
      "metadata": {
        "id": "igDcHCzCjwop"
      },
      "execution_count": null,
      "outputs": []
    },
    {
      "cell_type": "markdown",
      "source": [
        "### **Q4. Real-World Use Case: Bus Ticket Counter**\n",
        "\n",
        "**Description:**\n",
        "\n",
        "You are developing a **bus ticket booking system**. The bus has 10 seats. Print seat numbers as they get booked (1 to 10).\n",
        "\n",
        "We can store a number of seats in a variable `seats`.\n",
        "\n",
        "Note:\n",
        "\n",
        "- We can take input from the user using `input()`.\n",
        "- We can also directly take input as an Integer from the user using `int(input())`.\n",
        "\n",
        "**For example, Input:**\n",
        "\n",
        "```\n",
        "\n",
        "  \n",
        "seats = 10\n",
        "\n",
        "```\n",
        "\n",
        "**Output:**\n",
        "\n",
        "```\n",
        "\n",
        "  \n",
        "Seat 1 booked\n",
        "Seat 2 booked\n",
        "...\n",
        "Seat 10 booked\n",
        "\n",
        "```\n",
        "\n",
        "---\n",
        "\n"
      ],
      "metadata": {
        "id": "HfNFDnW4jxUD"
      }
    },
    {
      "cell_type": "code",
      "source": [],
      "metadata": {
        "id": "E-34KdKQj0cv"
      },
      "execution_count": null,
      "outputs": []
    },
    {
      "cell_type": "markdown",
      "source": [
        "### **Q5. Real-World Use Case: Store Discount Calculation**\n",
        "\n",
        "**Description:**\n",
        "\n",
        "A store gives a **5% discount for every purchase**. For `N` customers, display the discount for each.\n",
        "\n",
        "We can store a given number of customers in a variable `customers`.\n",
        "\n",
        "Note:\n",
        "\n",
        "- We can take input from the user using `input()`.\n",
        "- We can also directly take input as an Integer from the user using `int(input())`.\n",
        "\n",
        "**For example, Input:**\n",
        "\n",
        "```\n",
        "\n",
        "  \n",
        "customers = 3\n",
        "\n",
        "```\n",
        "\n",
        "**Output:**\n",
        "\n",
        "```\n",
        "  \n",
        "Customer 1: 5% discount\n",
        "Customer 2: 5% discount\n",
        "Customer 3: 5% discount\n",
        "\n",
        "```"
      ],
      "metadata": {
        "id": "xcQ-6bhUj1DX"
      }
    },
    {
      "cell_type": "code",
      "source": [],
      "metadata": {
        "id": "W7Egcuxaj1eu"
      },
      "execution_count": null,
      "outputs": []
    }
  ]
}